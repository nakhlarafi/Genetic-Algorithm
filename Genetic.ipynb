{
  "nbformat": 4,
  "nbformat_minor": 0,
  "metadata": {
    "colab": {
      "name": "Genetic.ipynb",
      "provenance": []
    },
    "kernelspec": {
      "name": "python3",
      "display_name": "Python 3"
    }
  },
  "cells": [
    {
      "cell_type": "code",
      "metadata": {
        "id": "GVsldiJDU5FX",
        "colab_type": "code",
        "colab": {}
      },
      "source": [
        "import numpy as np\n",
        "import random\n",
        "from random import randrange"
      ],
      "execution_count": 0,
      "outputs": []
    },
    {
      "cell_type": "code",
      "metadata": {
        "id": "KBKHPL-mU-jR",
        "colab_type": "code",
        "colab": {}
      },
      "source": [
        "# Generates a matrix of the given inputs\n",
        "def matrixGenerator(arr1,a):\n",
        "  c = 0\n",
        "  for i in a:\n",
        "    arr1[i-1][c]=1\n",
        "    c = c + 1\n",
        "  \n",
        "  reversed_arr = arr1[::-1]\n",
        "  return reversed_arr"
      ],
      "execution_count": 0,
      "outputs": []
    },
    {
      "cell_type": "code",
      "metadata": {
        "id": "djEy4v1VVCof",
        "colab_type": "code",
        "colab": {}
      },
      "source": [
        "# Finds the fitness\n",
        "def fitness(arr):\n",
        "  nfit = 0\n",
        "  count = 0\n",
        "  for i in range(len(arr)):\n",
        "    for j in range(len(arr[i])):\n",
        "      if(arr[i][j]==1):\n",
        "        ch = i+1\n",
        "        row = j+1\n",
        "        \n",
        "        while(ch<=7 and row<=7):\n",
        "          if(arr[ch][row]==1):\n",
        "            \n",
        "            nfit = nfit+1\n",
        "          ch = ch + 1\n",
        "          row = row + 1\n",
        "        ch = i-1\n",
        "        row = j+1\n",
        "        \n",
        "        while(ch>=0 and row<=7):\n",
        "          if(arr[ch][row]==1):\n",
        "            \n",
        "            nfit = nfit+1\n",
        "          ch = ch - 1\n",
        "          row = row + 1\n",
        "        ch = i\n",
        "        row = j+1\n",
        "        \n",
        "        while(ch==i and row<=7):\n",
        "          if(arr[ch][row]==1):\n",
        "           \n",
        "            nfit = nfit+1\n",
        "          row = row + 1\n",
        "        ch = i-1\n",
        "        row = j\n",
        "\n",
        "        \n",
        "        while(ch>=0 and row<=7):\n",
        "          if(arr[ch][row]==1):\n",
        "            \n",
        "            nfit = nfit+1\n",
        "          ch = ch - 1\n",
        "        ch = i+1\n",
        "        row = j\n",
        "        \n",
        "        while(ch<=7 and row<=7):\n",
        "          if(arr[ch][row]==1):\n",
        "            \n",
        "            nfit = nfit+1\n",
        "          ch = ch + 1\n",
        "        ch = i+1\n",
        "        row = j+1\n",
        "  return nfit\n"
      ],
      "execution_count": 0,
      "outputs": []
    },
    {
      "cell_type": "code",
      "metadata": {
        "id": "przGWN4eVF0p",
        "colab_type": "code",
        "colab": {}
      },
      "source": [
        "# Crosses over the datas\n",
        "def cross_over(a,b):\n",
        "  c = a[3:]\n",
        "  d = b[3:]\n",
        "  e = a\n",
        "  f = b\n",
        "  del a[3:]\n",
        "  del b[3:]\n",
        "  a.extend(d)\n",
        "  b.extend(c)\n",
        "  \n",
        "  return a,b"
      ],
      "execution_count": 0,
      "outputs": []
    },
    {
      "cell_type": "code",
      "metadata": {
        "id": "YcOUuW_iVIRs",
        "colab_type": "code",
        "colab": {}
      },
      "source": [
        "# Mutation is done here.\n",
        "def mutation(a,b):\n",
        "  num1 = random.choice(a)\n",
        "  num2 = random.choice(b)\n",
        "  for n, i in enumerate(a):\n",
        "   if i == num1:\n",
        "      a[n] = randrange(9)\n",
        "      break\n",
        "  for n, i in enumerate(b):\n",
        "   if i == num2:\n",
        "      b[n] = randrange(9)\n",
        "      break\n",
        "  return a,b"
      ],
      "execution_count": 0,
      "outputs": []
    },
    {
      "cell_type": "code",
      "metadata": {
        "id": "Q5xNk5bQVMVK",
        "colab_type": "code",
        "outputId": "6ed7a7f1-7251-439a-c874-a2fa8f0eb933",
        "colab": {
          "base_uri": "https://localhost:8080/",
          "height": 34
        }
      },
      "source": [
        "# The algorithm\n",
        "a = [3,8,4,7,2,3,2,5]\n",
        "b = [3,8,5,7,1,6,1,5]\n",
        "count = 0\n",
        "arr1 = np.array([[0,0,0,0,0,0,0,0],[0,0,0,0,0,0,0,0],[0,0,0,0,0,0,0,0],[0,0,0,0,0,0,0,0],\n",
        "        [0,0,0,0,0,0,0,0],[0,0,0,0,0,0,0,0],[0,0,0,0,0,0,0,0],[0,0,0,0,0,0,0,0]])\n",
        "arr2 = np.array([[0,0,0,0,0,0,0,0],[0,0,0,0,0,0,0,0],[0,0,0,0,0,0,0,0],[0,0,0,0,0,0,0,0],\n",
        "        [0,0,0,0,0,0,0,0],[0,0,0,0,0,0,0,0],[0,0,0,0,0,0,0,0],[0,0,0,0,0,0,0,0]])\n",
        "arr1 = matrixGenerator(arr1,a)\n",
        "arr2 = matrixGenerator(arr2,b)\n",
        "nfit1 = 28-fitness(arr1)\n",
        "nfit2 = 28-fitness(arr2)\n",
        "while(nfit1!=28 and nfit2!=28):\n",
        "  a, b = cross_over(a,b)\n",
        "  a, b = mutation(a,b)\n",
        "  \n",
        "  arr1 = np.array([[0,0,0,0,0,0,0,0],[0,0,0,0,0,0,0,0],[0,0,0,0,0,0,0,0],[0,0,0,0,0,0,0,0],\n",
        "        [0,0,0,0,0,0,0,0],[0,0,0,0,0,0,0,0],[0,0,0,0,0,0,0,0],[0,0,0,0,0,0,0,0]])\n",
        "  arr2 = np.array([[0,0,0,0,0,0,0,0],[0,0,0,0,0,0,0,0],[0,0,0,0,0,0,0,0],[0,0,0,0,0,0,0,0],\n",
        "        [0,0,0,0,0,0,0,0],[0,0,0,0,0,0,0,0],[0,0,0,0,0,0,0,0],[0,0,0,0,0,0,0,0]])\n",
        "  arr1 = matrixGenerator(arr1,a)\n",
        "  arr2 = matrixGenerator(arr2,b)\n",
        "  nfit1 = 28-fitness(arr1)\n",
        "  nfit2 = 28-fitness(arr2)\n",
        "  count = count + 1 \n",
        "  if(nfit1==28):\n",
        "    z = a\n",
        "  elif(nfit2==28):\n",
        "    z = b\n",
        "print(count,\"iterations done! The suitable value is:\",z)"
      ],
      "execution_count": 0,
      "outputs": [
        {
          "output_type": "stream",
          "text": [
            "56668 iterations done! The suitable value is: [3, 5, 2, 0, 1, 7, 4, 6]\n"
          ],
          "name": "stdout"
        }
      ]
    },
    {
      "cell_type": "code",
      "metadata": {
        "id": "nU6g2XaGVUtZ",
        "colab_type": "code",
        "colab": {}
      },
      "source": [
        ""
      ],
      "execution_count": 0,
      "outputs": []
    }
  ]
}